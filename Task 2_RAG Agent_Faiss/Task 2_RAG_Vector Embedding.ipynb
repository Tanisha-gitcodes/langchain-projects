{
 "cells": [
  {
   "cell_type": "markdown",
   "id": "7803dd6c-5cb1-4b6f-a5ca-0124e0d42e8f",
   "metadata": {},
   "source": [
    "# Retrieval-Augmented Generation (RAG)"
   ]
  },
  {
   "cell_type": "code",
   "id": "8ac7957e-3b7d-49d4-a5a5-0903df95ef78",
   "metadata": {
    "ExecuteTime": {
     "end_time": "2025-06-16T12:23:50.053Z",
     "start_time": "2025-06-16T12:23:44.949904Z"
    }
   },
   "source": [
    "%pip install --quiet --upgrade langchain langchain-community langchain-openai langgraph faiss-cpu"
   ],
   "outputs": [
    {
     "name": "stdout",
     "output_type": "stream",
     "text": [
      "Note: you may need to restart the kernel to use updated packages.\n"
     ]
    }
   ],
   "execution_count": 1
  },
  {
   "cell_type": "code",
   "id": "1f95cf88-daa7-4a4a-9c8f-e09bd0266c0f",
   "metadata": {
    "ExecuteTime": {
     "end_time": "2025-06-16T12:23:56.501502Z",
     "start_time": "2025-06-16T12:23:50.180279Z"
    }
   },
   "source": [
    "from dotenv import load_dotenv\n",
    "load_dotenv()\n",
    "import pandas as pd\n",
    "from langchain_core.documents import Document\n",
    "from langchain_openai import ChatOpenAI\n",
    "import os\n",
    "from dotenv import load_dotenv\n",
    "load_dotenv()\n",
    "\n",
    "api_key = os.getenv(\"OPENAI_API_KEY\")\n",
    "\n",
    "from langchain_openai import OpenAIEmbeddings\n",
    "from langchain_community.docstore.in_memory import InMemoryDocstore\n",
    "from langchain_community.vectorstores import FAISS\n",
    "import faiss\n",
    "\n",
    "from langchain import hub\n",
    "from langchain_text_splitters import RecursiveCharacterTextSplitter\n",
    "from langgraph.graph import START, StateGraph\n",
    "from typing_extensions import List, TypedDict\n",
    "\n",
    "llm = ChatOpenAI(model=\"gpt-3.5-turbo\", temperature=0, api_key=api_key)\n",
    "embeddings = OpenAIEmbeddings(model=\"text-embedding-3-large\")"
   ],
   "outputs": [],
   "execution_count": 2
  },
  {
   "cell_type": "code",
   "id": "b38c95c5-6329-4f43-b054-f8d0ca116967",
   "metadata": {
    "ExecuteTime": {
     "end_time": "2025-06-16T12:24:01.267987Z",
     "start_time": "2025-06-16T12:23:56.526864Z"
    }
   },
   "source": [
    "# FAISS\n",
    "embedding_dim = len(embeddings.embed_query(\"hello world\"))\n",
    "index = faiss.IndexFlatL2(embedding_dim)\n",
    "\n",
    "vector_store = FAISS(\n",
    "    embedding_function=embeddings,\n",
    "    index=index,\n",
    "    docstore=InMemoryDocstore(),\n",
    "    index_to_docstore_id={},\n",
    ")"
   ],
   "outputs": [],
   "execution_count": 3
  },
  {
   "cell_type": "code",
   "id": "d7fadcf9-bf67-4bcf-a13a-229e88f22dbb",
   "metadata": {
    "ExecuteTime": {
     "end_time": "2025-06-16T12:24:01.999890Z",
     "start_time": "2025-06-16T12:24:01.301592Z"
    }
   },
   "source": [
    "'''\n",
    "Test Prompt\n",
    "'''\n",
    "# Add a document\n",
    "doc = Document(page_content=\"LangChain is a framework for developing applications powered by LLMs.\")\n",
    "\n",
    "# Embed and add to vector store\n",
    "vector_store.add_documents([doc])\n",
    "\n",
    "# Similarity search\n",
    "query = \"What is LangChain?\"\n",
    "results = vector_store.similarity_search(query, k=1)\n",
    "\n",
    "# Print result\n",
    "print(\"Top result:\", results[0].page_content)"
   ],
   "outputs": [
    {
     "name": "stdout",
     "output_type": "stream",
     "text": [
      "Top result: LangChain is a framework for developing applications powered by LLMs.\n"
     ]
    }
   ],
   "execution_count": 4
  },
  {
   "cell_type": "markdown",
   "id": "8fb692b6-0e71-4c86-9cee-349d9837e849",
   "metadata": {},
   "source": [
    "### Loading Document"
   ]
  },
  {
   "cell_type": "code",
   "id": "7481fef5-6557-49d3-85ec-4e7d560fe6d7",
   "metadata": {
    "ExecuteTime": {
     "end_time": "2025-06-16T12:24:02.079247Z",
     "start_time": "2025-06-16T12:24:02.034223Z"
    }
   },
   "source": [
    "df = pd.read_csv(\"cura_db.digital_footprint_data.csv\")\n",
    "\n",
    "#--------------\n",
    "\n",
    "df.head()"
   ],
   "outputs": [
    {
     "data": {
      "text/plain": [
       "                        _id  \\\n",
       "0  6836e41076d2558cf288833e   \n",
       "1  6836e41176d2558cf288833f   \n",
       "2  6836e41476d2558cf2888340   \n",
       "3  6836e41876d2558cf2888341   \n",
       "4  6836e46576d2558cf2888342   \n",
       "\n",
       "                                                name  \\\n",
       "0                                      Plug and Play   \n",
       "1     Ministry of Post and Telecommunications (MPTC)   \n",
       "2  American University of Phnom Penh Technology C...   \n",
       "3                                         Tuya Smart   \n",
       "4                                           Itential   \n",
       "\n",
       "                        websiteUrl  \\\n",
       "0  https://www.plugandplayapac.com   \n",
       "1          https://mptc.gov.kh/en/   \n",
       "2                              NaN   \n",
       "3             https://www.tuya.com   \n",
       "4                              NaN   \n",
       "\n",
       "                                   products_services  \\\n",
       "0  Global open innovation platform connecting sta...   \n",
       "1  Management and regulation of Cambodia's postal...   \n",
       "2  Technology startup incubation, mentorship, res...   \n",
       "3  AI cloud platform services, smart home ecosyst...   \n",
       "4  Network automation and orchestration platform,...   \n",
       "\n",
       "                                            industry        country  \\\n",
       "0  Innovation platform, Venture Capital, Startup ...  United States   \n",
       "1            Government Ministry, Telecommunications       Cambodia   \n",
       "2                    Education, Technology Incubator       Cambodia   \n",
       "3  Artificial Intelligence, Cloud Computing, Inte...          China   \n",
       "4              Computer Software, Network Automation  United States   \n",
       "\n",
       "         size country_iso_2  \\\n",
       "0  enterprise            US   \n",
       "1      medium            KH   \n",
       "2       small            KH   \n",
       "3  enterprise            CN   \n",
       "4      medium            US   \n",
       "\n",
       "                                   company_footprint  isValidUrl  \n",
       "0  Announced a new location in Phnom Penh, Cambod...        True  \n",
       "1  Became a founding anchor partner for Plug and ...        True  \n",
       "2  Serving as an advisory member and collaboratin...       False  \n",
       "3  Named to the '2025 Forbes China AI Tech Enterp...        True  \n",
       "4  Announced the launch of the Itential MCP Serve...       False  "
      ],
      "text/html": [
       "<div>\n",
       "<style scoped>\n",
       "    .dataframe tbody tr th:only-of-type {\n",
       "        vertical-align: middle;\n",
       "    }\n",
       "\n",
       "    .dataframe tbody tr th {\n",
       "        vertical-align: top;\n",
       "    }\n",
       "\n",
       "    .dataframe thead th {\n",
       "        text-align: right;\n",
       "    }\n",
       "</style>\n",
       "<table border=\"1\" class=\"dataframe\">\n",
       "  <thead>\n",
       "    <tr style=\"text-align: right;\">\n",
       "      <th></th>\n",
       "      <th>_id</th>\n",
       "      <th>name</th>\n",
       "      <th>websiteUrl</th>\n",
       "      <th>products_services</th>\n",
       "      <th>industry</th>\n",
       "      <th>country</th>\n",
       "      <th>size</th>\n",
       "      <th>country_iso_2</th>\n",
       "      <th>company_footprint</th>\n",
       "      <th>isValidUrl</th>\n",
       "    </tr>\n",
       "  </thead>\n",
       "  <tbody>\n",
       "    <tr>\n",
       "      <th>0</th>\n",
       "      <td>6836e41076d2558cf288833e</td>\n",
       "      <td>Plug and Play</td>\n",
       "      <td>https://www.plugandplayapac.com</td>\n",
       "      <td>Global open innovation platform connecting sta...</td>\n",
       "      <td>Innovation platform, Venture Capital, Startup ...</td>\n",
       "      <td>United States</td>\n",
       "      <td>enterprise</td>\n",
       "      <td>US</td>\n",
       "      <td>Announced a new location in Phnom Penh, Cambod...</td>\n",
       "      <td>True</td>\n",
       "    </tr>\n",
       "    <tr>\n",
       "      <th>1</th>\n",
       "      <td>6836e41176d2558cf288833f</td>\n",
       "      <td>Ministry of Post and Telecommunications (MPTC)</td>\n",
       "      <td>https://mptc.gov.kh/en/</td>\n",
       "      <td>Management and regulation of Cambodia's postal...</td>\n",
       "      <td>Government Ministry, Telecommunications</td>\n",
       "      <td>Cambodia</td>\n",
       "      <td>medium</td>\n",
       "      <td>KH</td>\n",
       "      <td>Became a founding anchor partner for Plug and ...</td>\n",
       "      <td>True</td>\n",
       "    </tr>\n",
       "    <tr>\n",
       "      <th>2</th>\n",
       "      <td>6836e41476d2558cf2888340</td>\n",
       "      <td>American University of Phnom Penh Technology C...</td>\n",
       "      <td>NaN</td>\n",
       "      <td>Technology startup incubation, mentorship, res...</td>\n",
       "      <td>Education, Technology Incubator</td>\n",
       "      <td>Cambodia</td>\n",
       "      <td>small</td>\n",
       "      <td>KH</td>\n",
       "      <td>Serving as an advisory member and collaboratin...</td>\n",
       "      <td>False</td>\n",
       "    </tr>\n",
       "    <tr>\n",
       "      <th>3</th>\n",
       "      <td>6836e41876d2558cf2888341</td>\n",
       "      <td>Tuya Smart</td>\n",
       "      <td>https://www.tuya.com</td>\n",
       "      <td>AI cloud platform services, smart home ecosyst...</td>\n",
       "      <td>Artificial Intelligence, Cloud Computing, Inte...</td>\n",
       "      <td>China</td>\n",
       "      <td>enterprise</td>\n",
       "      <td>CN</td>\n",
       "      <td>Named to the '2025 Forbes China AI Tech Enterp...</td>\n",
       "      <td>True</td>\n",
       "    </tr>\n",
       "    <tr>\n",
       "      <th>4</th>\n",
       "      <td>6836e46576d2558cf2888342</td>\n",
       "      <td>Itential</td>\n",
       "      <td>NaN</td>\n",
       "      <td>Network automation and orchestration platform,...</td>\n",
       "      <td>Computer Software, Network Automation</td>\n",
       "      <td>United States</td>\n",
       "      <td>medium</td>\n",
       "      <td>US</td>\n",
       "      <td>Announced the launch of the Itential MCP Serve...</td>\n",
       "      <td>False</td>\n",
       "    </tr>\n",
       "  </tbody>\n",
       "</table>\n",
       "</div>"
      ]
     },
     "execution_count": 5,
     "metadata": {},
     "output_type": "execute_result"
    }
   ],
   "execution_count": 5
  },
  {
   "cell_type": "code",
   "id": "3a4136a9-4437-40d4-a83f-a8bcf42b25b0",
   "metadata": {
    "ExecuteTime": {
     "end_time": "2025-06-16T12:24:02.208257Z",
     "start_time": "2025-06-16T12:24:02.186943Z"
    }
   },
   "source": [
    "documents = []\n",
    "\n",
    "for _, row in df.iterrows():\n",
    "    content = f\"\"\"\n",
    "    ID: {row.get('_id','')}\n",
    "    Name: {row.get('name', '')}\n",
    "    Website URL: {row.get('websiteUrl','')}\n",
    "    Products & Services: {row.get('products_services', '')}\n",
    "    Industry: {row.get('industry', '')}\n",
    "    Country: {row.get('country', '')}\n",
    "    Size: {row.get('size', '')}\n",
    "    Country ISO 2: {row.get('country_iso_2','')}\n",
    "    Company Footprint: {row.get('company_footprint','')}\n",
    "    Valid URL: {row.get('isValidUrl','')}\n",
    "    \"\"\"\n",
    "    documents.append(Document(page_content=content.strip()))\n",
    "\n",
    "#---------------\n",
    "\n",
    "print(documents[3].page_content)"
   ],
   "outputs": [
    {
     "name": "stdout",
     "output_type": "stream",
     "text": [
      "ID: 6836e41876d2558cf2888341\n",
      "    Name: Tuya Smart\n",
      "    Website URL: https://www.tuya.com\n",
      "    Products & Services: AI cloud platform services, smart home ecosystem solutions, IoT platform\n",
      "    Industry: Artificial Intelligence, Cloud Computing, Internet of Things\n",
      "    Country: China\n",
      "    Size: enterprise\n",
      "    Country ISO 2: CN\n",
      "    Company Footprint: Named to the '2025 Forbes China AI Tech Enterprises Top 50' list by Forbes China, recognized for robust technological capabilities and contributions to AI accessibility and commercialization; hosted the 2025 TUYA Global Developer Summit in Shenzhen.\n",
      "    Valid URL: True\n"
     ]
    }
   ],
   "execution_count": 6
  },
  {
   "cell_type": "markdown",
   "id": "f876540c-6867-4a16-8bbd-abdfb68b0b59",
   "metadata": {},
   "source": [
    "### Splitting Document"
   ]
  },
  {
   "cell_type": "code",
   "id": "d3901ec5-8fe0-4bbf-be83-9a3e9f7e1854",
   "metadata": {
    "ExecuteTime": {
     "end_time": "2025-06-16T12:24:02.392712Z",
     "start_time": "2025-06-16T12:24:02.380582Z"
    }
   },
   "source": [
    "text_splitter = RecursiveCharacterTextSplitter(\n",
    "    chunk_size=800,  # chunk size (characters)\n",
    "    chunk_overlap=100,  # chunk overlap (characters)\n",
    "    add_start_index=True,  # track index in original document\n",
    ")\n",
    "all_splits = text_splitter.split_documents(documents)\n",
    "\n",
    "#------------\n",
    "\n",
    "print(f\"Split blog post into {len(all_splits)} sub-documents.\")"
   ],
   "outputs": [
    {
     "name": "stdout",
     "output_type": "stream",
     "text": [
      "Split blog post into 14 sub-documents.\n"
     ]
    }
   ],
   "execution_count": 7
  },
  {
   "cell_type": "markdown",
   "id": "b9250be9-ec52-47d8-9703-03e54b555315",
   "metadata": {},
   "source": [
    "### Storing Document in FAISS"
   ]
  },
  {
   "cell_type": "code",
   "id": "987fb4ae-022f-4e96-9390-50cb8e748e11",
   "metadata": {
    "ExecuteTime": {
     "end_time": "2025-06-16T12:24:03.186579Z",
     "start_time": "2025-06-16T12:24:02.508815Z"
    }
   },
   "source": [
    "document_ids = vector_store.add_documents(documents=all_splits)\n",
    "\n",
    "#------------\n",
    "\n",
    "print(document_ids[:3])"
   ],
   "outputs": [
    {
     "name": "stdout",
     "output_type": "stream",
     "text": [
      "['c4274038-b6b9-4e2b-82b6-4eee2d04dee2', '73ceecf3-0961-4f1f-bfaf-2132d56c28a9', 'd032954e-417c-4f17-bd74-1c13d09c1335']\n"
     ]
    }
   ],
   "execution_count": 8
  },
  {
   "cell_type": "markdown",
   "id": "769b044e-c1d1-4228-81f4-a923ab23cd02",
   "metadata": {},
   "source": [
    "### Retrieval and Generation"
   ]
  },
  {
   "cell_type": "code",
   "id": "ef1f1cc4-ee25-40b8-93b7-44e32d58dae6",
   "metadata": {
    "ExecuteTime": {
     "end_time": "2025-06-16T12:24:03.711574Z",
     "start_time": "2025-06-16T12:24:03.246816Z"
    }
   },
   "source": [
    "prompt = hub.pull(\"rlm/rag-prompt\")"
   ],
   "outputs": [
    {
     "name": "stderr",
     "output_type": "stream",
     "text": [
      "C:\\Users\\Leo\\anaconda3\\Lib\\site-packages\\langsmith\\client.py:272: LangSmithMissingAPIKeyWarning: API key must be provided when using hosted LangSmith API\n",
      "  warnings.warn(\n"
     ]
    }
   ],
   "execution_count": 9
  },
  {
   "cell_type": "markdown",
   "id": "f52a87c2-5433-47f4-aab9-945be5ed752b",
   "metadata": {},
   "source": [
    "### Tracking prompts"
   ]
  },
  {
   "cell_type": "code",
   "id": "68bf0ceb-8ecd-4c26-8340-3221202cd7c6",
   "metadata": {
    "ExecuteTime": {
     "end_time": "2025-06-16T12:24:03.781157Z",
     "start_time": "2025-06-16T12:24:03.765966Z"
    }
   },
   "source": [
    "class State(TypedDict):\n",
    "    question: str\n",
    "    context: List[Document]\n",
    "    answer: str"
   ],
   "outputs": [],
   "execution_count": 10
  },
  {
   "cell_type": "markdown",
   "id": "30962c34-ec1c-4df2-9e15-faf7024e535b",
   "metadata": {},
   "source": [
    "### Application Step"
   ]
  },
  {
   "cell_type": "code",
   "id": "4a2d94aa-4b79-4ba5-8d1c-f9e2a8254c8c",
   "metadata": {
    "ExecuteTime": {
     "end_time": "2025-06-16T12:24:03.886788Z",
     "start_time": "2025-06-16T12:24:03.864708Z"
    }
   },
   "source": [
    "def retrieve(state: State):\n",
    "    retrieved_docs = vector_store.similarity_search(state[\"question\"])\n",
    "    return {\"context\": retrieved_docs}\n",
    "\n",
    "def generate(state: State):\n",
    "    docs_content = \"\\n\\n\".join(doc.page_content for doc in state[\"context\"])\n",
    "    messages = prompt.invoke({\"question\": state[\"question\"], \"context\": docs_content})\n",
    "    response = llm.invoke(messages)\n",
    "    return {\"answer\": response.content}"
   ],
   "outputs": [],
   "execution_count": 11
  },
  {
   "cell_type": "markdown",
   "id": "1a7a6c0b-403e-49e3-b2ca-a575d754c409",
   "metadata": {},
   "source": [
    "### Control Flow"
   ]
  },
  {
   "cell_type": "code",
   "id": "303c9f85-38e5-423d-88f5-af199b3f37dd",
   "metadata": {
    "ExecuteTime": {
     "end_time": "2025-06-16T12:24:03.947928Z",
     "start_time": "2025-06-16T12:24:03.928116Z"
    }
   },
   "source": [
    "graph_builder = StateGraph(State).add_sequence([retrieve, generate])\n",
    "graph_builder.add_edge(START, \"retrieve\")\n",
    "graph = graph_builder.compile()"
   ],
   "outputs": [],
   "execution_count": 12
  },
  {
   "cell_type": "markdown",
   "id": "9a3c5360-b60a-490f-aba5-0a981417a575",
   "metadata": {},
   "source": [
    "### Sample Prompts"
   ]
  },
  {
   "cell_type": "code",
   "id": "e7334166-290b-40b2-a75a-e5ce053bffd7",
   "metadata": {
    "ExecuteTime": {
     "end_time": "2025-06-16T12:24:05.598852Z",
     "start_time": "2025-06-16T12:24:03.983828Z"
    }
   },
   "source": [
    "response = graph.invoke({\"question\": \"Which companies announced partnerships?\"})\n",
    "\n",
    "answer = response[\"answer\"]\n",
    "print(\"Answer:\", answer)"
   ],
   "outputs": [
    {
     "name": "stdout",
     "output_type": "stream",
     "text": [
      "Answer: Zilliz announced partnerships with leading global e-commerce platforms for its Milvus vector database solutions. Plug and Play announced collaboration with the Cambodian Ministry of Post and Telecommunications and American University of Phnom Penh Technology Center. Autonomous Inc. announced the availability of Brainy, a local GPU server, for accelerating AI and deep learning innovation.\n"
     ]
    }
   ],
   "execution_count": 13
  },
  {
   "cell_type": "code",
   "id": "af492d96-a99e-443a-934e-1c2a04094ccf",
   "metadata": {
    "ExecuteTime": {
     "end_time": "2025-06-16T12:24:07.912400Z",
     "start_time": "2025-06-16T12:24:05.652837Z"
    }
   },
   "source": [
    "response = graph.invoke({\"question\": \"Which companies announced partnerships with Schneider Electric?\"})\n",
    "\n",
    "answer = response[\"answer\"]\n",
    "print(\"Answer:\", answer)"
   ],
   "outputs": [
    {
     "name": "stdout",
     "output_type": "stream",
     "text": [
      "Answer: Schneider Electric announced partnerships with Advanced Power Technology (APT) to deploy a new modular containerised data centre at The Pirbright Institute, recognized at the DCS Awards 2025. Schneider Electric also announced a new location in Phnom Penh, Cambodia, collaborating with the Cambodian Ministry of Post and Telecommunications and American University of Phnom Penh Technology Center.\n"
     ]
    }
   ],
   "execution_count": 14
  },
  {
   "cell_type": "code",
   "id": "3e39b38c-2071-40df-89eb-e191a1e8d848",
   "metadata": {
    "ExecuteTime": {
     "end_time": "2025-06-16T12:24:09.347784Z",
     "start_time": "2025-06-16T12:24:07.959857Z"
    }
   },
   "source": [
    "response = graph.invoke({\"question\": \"Which company expanded to a new region?\"})\n",
    "\n",
    "answer = response[\"answer\"]\n",
    "print(\"Answer:\", answer)"
   ],
   "outputs": [
    {
     "name": "stdout",
     "output_type": "stream",
     "text": [
      "Answer: Plug and Play expanded to a new region by launching the Plug and Play Cambodia Program in Phnom Penh, Cambodia. They are collaborating with the Cambodian Ministry of Post and Telecommunications and the American University of Phnom Penh Technology Center.\n"
     ]
    }
   ],
   "execution_count": 15
  },
  {
   "cell_type": "code",
   "id": "e1a5de73-ee9b-4df9-9533-7c34db4a1847",
   "metadata": {
    "ExecuteTime": {
     "end_time": "2025-06-16T12:24:10.580016Z",
     "start_time": "2025-06-16T12:24:09.400972Z"
    }
   },
   "source": [
    "response = graph.invoke({\"question\": \"List all companies that partnered with Plug and Play.\"})\n",
    "\n",
    "answer = response[\"answer\"]\n",
    "print(\"Answer:\", answer)"
   ],
   "outputs": [
    {
     "name": "stdout",
     "output_type": "stream",
     "text": [
      "Answer: The companies that partnered with Plug and Play are the American University of Phnom Penh Technology Center (ATC) and the Ministry of Post and Telecommunications (MPTC) in Cambodia. They collaborated to support the Plug and Play Cambodia Program in fostering digital innovation and entrepreneurship in Cambodia.\n"
     ]
    }
   ],
   "execution_count": 16
  },
  {
   "cell_type": "code",
   "id": "64d093f3-3b29-4cbb-a859-ad7ead27d6b2",
   "metadata": {
    "ExecuteTime": {
     "end_time": "2025-06-16T12:24:12.521248Z",
     "start_time": "2025-06-16T12:24:10.620374Z"
    }
   },
   "source": [
    "response = graph.invoke({\"question\": \"List companies from the UK involved in international projects.\"})\n",
    "\n",
    "answer = response[\"answer\"]\n",
    "print(\"Answer:\", answer)"
   ],
   "outputs": [
    {
     "name": "stdout",
     "output_type": "stream",
     "text": [
      "Answer: The companies from the UK involved in international projects are Advanced Power Technology (APT) and FARFETCH. Advanced Power Technology partnered with Schneider Electric to deploy a new modular containerised data centre at The Pirbright Institute. FARFETCH adopted Zilliz's vector database solutions for faster search and smarter recommendations.\n"
     ]
    }
   ],
   "execution_count": 17
  },
  {
   "cell_type": "code",
   "id": "9ee2ae32-7f21-4070-9fe9-95cf7c57f06e",
   "metadata": {
    "ExecuteTime": {
     "end_time": "2025-06-16T12:24:14.568208Z",
     "start_time": "2025-06-16T12:24:12.588387Z"
    }
   },
   "source": [
    "response = graph.invoke({\"question\": \"Which projects won awards or were recognized in 2025?\"})\n",
    "\n",
    "answer = response[\"answer\"]\n",
    "print(\"Answer:\", answer)"
   ],
   "outputs": [
    {
     "name": "stdout",
     "output_type": "stream",
     "text": [
      "Answer: Schneider Electric won the 'Data Centre Consolidation/Upgrade Project of the Year' category at the DCS Awards 2025 for deploying a new modular data centre at The Pirbright Institute in partnership with Advanced Power Technology (APT). Advanced Power Technology (APT) partnered with Schneider Electric to deploy a new modular containerised data centre at The Pirbright Institute, which was recognized at the DCS Awards 2025.\n"
     ]
    }
   ],
   "execution_count": 18
  },
  {
   "cell_type": "code",
   "id": "15f4e734-40a4-4bad-a79b-a4b79d3eee3f",
   "metadata": {
    "ExecuteTime": {
     "end_time": "2025-06-16T12:24:14.626355Z",
     "start_time": "2025-06-16T12:24:14.619494Z"
    }
   },
   "source": [],
   "outputs": [],
   "execution_count": null
  }
 ],
 "metadata": {
  "kernelspec": {
   "display_name": "Python 3 (ipykernel)",
   "language": "python",
   "name": "python3"
  },
  "language_info": {
   "codemirror_mode": {
    "name": "ipython",
    "version": 3
   },
   "file_extension": ".py",
   "mimetype": "text/x-python",
   "name": "python",
   "nbconvert_exporter": "python",
   "pygments_lexer": "ipython3",
   "version": "3.12.7"
  }
 },
 "nbformat": 4,
 "nbformat_minor": 5
}
