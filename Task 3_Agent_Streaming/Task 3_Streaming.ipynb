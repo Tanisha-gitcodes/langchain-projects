{
 "cells": [
  {
   "cell_type": "code",
   "id": "e6fe41db-fcae-43e3-b18a-b285b5d6b582",
   "metadata": {
    "scrolled": true,
    "ExecuteTime": {
     "end_time": "2025-06-16T16:38:39.504729Z",
     "start_time": "2025-06-16T16:38:37.583322Z"
    }
   },
   "source": "!pip install --quiet--openai langchain langchain-openai",
   "outputs": [
    {
     "name": "stderr",
     "output_type": "stream",
     "text": [
      "\n",
      "Usage:   \n",
      "  pip install [options] <requirement specifier> [package-index-options] ...\n",
      "  pip install [options] -r <requirements file> [package-index-options] ...\n",
      "  pip install [options] [-e] <vcs project url> ...\n",
      "  pip install [options] [-e] <local project path> ...\n",
      "  pip install [options] <archive url/path> ...\n",
      "\n",
      "no such option: --quiet--openai\n"
     ]
    }
   ],
   "execution_count": 1
  },
  {
   "cell_type": "code",
   "id": "ee3e1e8b-1feb-4867-9b77-e2feebf234c1",
   "metadata": {
    "ExecuteTime": {
     "end_time": "2025-06-16T16:38:44.746124Z",
     "start_time": "2025-06-16T16:38:39.520558Z"
    }
   },
   "source": [
    "import os\n",
    "from dotenv import load_dotenv\n",
    "load_dotenv()\n",
    "\n",
    "api_key = os.getenv(\"OPENAI_API_KEY\")\n",
    "\n",
    "from langchain_openai import ChatOpenAI\n",
    "from langchain_core.prompts import ChatPromptTemplate\n",
    "from langchain_core.output_parsers import StrOutputParser\n",
    "\n",
    "llm = ChatOpenAI(model=\"gpt-4o-mini\", temperature=0.7, api_key=api_key)"
   ],
   "outputs": [],
   "execution_count": 2
  },
  {
   "cell_type": "code",
   "id": "11a7061b-85c0-4952-94c8-71e509e1dc64",
   "metadata": {
    "ExecuteTime": {
     "end_time": "2025-06-16T16:38:44.929297Z",
     "start_time": "2025-06-16T16:38:44.897640Z"
    }
   },
   "source": [
    "# Prompt\n",
    "prompt = ChatPromptTemplate.from_template(\"Tell me a joke about {topic}\")\n",
    "parser = StrOutputParser()\n",
    "\n",
    "# Chain: Prompt - LLM - OutputParser\n",
    "chain = prompt | llm | parser"
   ],
   "outputs": [],
   "execution_count": 3
  },
  {
   "cell_type": "markdown",
   "id": "56371a65-96e8-4b86-959a-13f574615a05",
   "metadata": {},
   "source": [
    "### Invoke Text Output"
   ]
  },
  {
   "cell_type": "code",
   "id": "ab762a69-d8f5-403e-aa7b-46fbc86f30fd",
   "metadata": {
    "ExecuteTime": {
     "end_time": "2025-06-16T16:38:45.108716Z",
     "start_time": "2025-06-16T16:38:45.092313Z"
    }
   },
   "source": [
    "def invoke_joke(topic: str):\n",
    "    result = chain.invoke({\"topic\": topic})\n",
    "    print(result)"
   ],
   "outputs": [],
   "execution_count": 4
  },
  {
   "cell_type": "markdown",
   "id": "4f2deab5-bf77-4c01-9a3c-5b202dbaa331",
   "metadata": {},
   "source": [
    "### Streaming Text Output"
   ]
  },
  {
   "cell_type": "code",
   "id": "dd2ade19-92c4-46f2-8bfc-7b9adee23225",
   "metadata": {
    "ExecuteTime": {
     "end_time": "2025-06-16T16:38:45.177492Z",
     "start_time": "2025-06-16T16:38:45.165262Z"
    }
   },
   "source": [
    "async def stream_joke(topic: str):\n",
    "    async for chunk in chain.astream({\"topic\": topic}):\n",
    "        print(chunk, end=\"\", flush=True)"
   ],
   "outputs": [],
   "execution_count": 5
  },
  {
   "cell_type": "markdown",
   "id": "df059036-60dd-4b65-b31b-6722e5e7c1e4",
   "metadata": {},
   "source": [
    "### Raw Event Streaming"
   ]
  },
  {
   "cell_type": "code",
   "id": "94d6c431-bdf5-4e3d-8d9d-07e94855dfe2",
   "metadata": {
    "ExecuteTime": {
     "end_time": "2025-06-16T16:38:45.305614Z",
     "start_time": "2025-06-16T16:38:45.285931Z"
    }
   },
   "source": [
    "async def stream_events_joke(topic: str):\n",
    "    async for event in chain.astream_events({\"topic\": topic}):\n",
    "        if event[\"event\"] == \"on_chat_model_stream\":\n",
    "            print(event[\"data\"][\"chunk\"].content, end=\"\", flush=True)"
   ],
   "outputs": [],
   "execution_count": 6
  },
  {
   "cell_type": "markdown",
   "id": "ac49651d-0e16-4477-b9e2-4e0e5d41b001",
   "metadata": {},
   "source": [
    "### Testing"
   ]
  },
  {
   "cell_type": "code",
   "id": "a836c703-0d12-402c-98a5-68a31f7a6bec",
   "metadata": {
    "ExecuteTime": {
     "end_time": "2025-06-16T16:38:45.524783Z",
     "start_time": "2025-06-16T16:38:45.393268Z"
    }
   },
   "source": [
    "import nest_asyncio\n",
    "import asyncio\n",
    "\n",
    "nest_asyncio.apply()  # Allows nested event loops\n",
    "\n",
    "async def main():\n",
    "    topic_entered = input(\"What topic would you like to hear a joke on? \")\n",
    "    stream_option = input(\"Do you want the output to be streamed? [Y/N] \").upper()\n",
    "\n",
    "    while stream_option not in [\"Y\", \"N\"]:\n",
    "        stream_option = input(\"Please enter 'Y' or 'N': \").upper()\n",
    "\n",
    "    if stream_option == \"Y\":\n",
    "        await stream_joke(topic_entered)\n",
    "    else:\n",
    "        invoke_joke(topic_entered)"
   ],
   "outputs": [],
   "execution_count": 7
  },
  {
   "metadata": {
    "ExecuteTime": {
     "end_time": "2025-06-16T16:40:48.748907Z",
     "start_time": "2025-06-16T16:40:37.123330Z"
    }
   },
   "cell_type": "code",
   "source": "await main()",
   "id": "225c3b66dee20c9c",
   "outputs": [
    {
     "name": "stdout",
     "output_type": "stream",
     "text": [
      "Why was the equal sign so humble? \n",
      "\n",
      "Because it knew it wasn't less than or greater than anyone else!"
     ]
    }
   ],
   "execution_count": 12
  },
  {
   "metadata": {
    "ExecuteTime": {
     "end_time": "2025-06-16T16:38:55.975967Z",
     "start_time": "2025-06-16T16:38:55.969133Z"
    }
   },
   "cell_type": "code",
   "source": "# await stream_events_joke(topic_entered)",
   "id": "7237dbf1-6178-4744-90cc-7ab1e02027f3",
   "outputs": [],
   "execution_count": 9
  }
 ],
 "metadata": {
  "kernelspec": {
   "display_name": "Python 3 (ipykernel)",
   "language": "python",
   "name": "python3"
  },
  "language_info": {
   "codemirror_mode": {
    "name": "ipython",
    "version": 3
   },
   "file_extension": ".py",
   "mimetype": "text/x-python",
   "name": "python",
   "nbconvert_exporter": "python",
   "pygments_lexer": "ipython3",
   "version": "3.12.7"
  }
 },
 "nbformat": 4,
 "nbformat_minor": 5
}
